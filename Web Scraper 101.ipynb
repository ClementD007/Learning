{
  "nbformat": 4,
  "nbformat_minor": 0,
  "metadata": {
    "colab": {
      "name": "Untitled1.ipynb",
      "provenance": [],
      "authorship_tag": "ABX9TyNh9t4213twaXKNUsjxnMXn",
      "include_colab_link": true
    },
    "kernelspec": {
      "name": "python3",
      "display_name": "Python 3"
    }
  },
  "cells": [
    {
      "cell_type": "markdown",
      "metadata": {
        "id": "view-in-github",
        "colab_type": "text"
      },
      "source": [
        "<a href=\"https://colab.research.google.com/github/ClementD007/Learning/blob/main/Web%20Scraper%20101.ipynb\" target=\"_parent\"><img src=\"https://colab.research.google.com/assets/colab-badge.svg\" alt=\"Open In Colab\"/></a>"
      ]
    },
    {
      "cell_type": "code",
      "metadata": {
        "id": "TQMC7ki2mmuE"
      },
      "source": [
        "import requests\n",
        "from requests import get\n",
        "from bs4 import BeautifulSoup\n",
        "import pandas as pd\n",
        "import numpy as np\n",
        "from time import sleep\n",
        "from random import randint\n",
        "\n",
        "\n",
        "pages = np.arange(1, 1001, 50)\n",
        "headers = {\"Accept-Language\": \"en-US, en;q=0.5\"}\n",
        "\n",
        "titles = []\n",
        "years = []\n",
        "time = []\n",
        "imdb_ratings = []\n",
        "metascores = []\n",
        "votes = []\n",
        "us_gross = []\n",
        "\n",
        "for page in pages:\n",
        "\n",
        "  page = requests.get(\"https://www.imdb.com/search/title/?groups=top_1000&start=\" + str(page) + \"&ref_=adv_nxt\", headers=headers)\n",
        "\n",
        "  soup = BeautifulSoup(page.text, 'html.parser')\n",
        "  \n",
        "  movie_div = soup.find_all('div', class_='lister-item mode-advanced')\n",
        "\n",
        "  sleep(randint(2,10))\n",
        "\n",
        "  for container in movie_div:\n",
        "    #name\n",
        "    name = container.h3.a.text\n",
        "    titles.append(name)\n",
        "    #year\n",
        "    year = container.h3.find('span', class_='lister-item-year').text\n",
        "    years.append(year)\n",
        "    #runtime\n",
        "    runtime = container.find('span', class_='runtime').text if container.p.find('span', class_='runtime') else ''\n",
        "    time.append(runtime)\n",
        "    #rating\n",
        "    imdb = float(container.strong.text)\n",
        "    imdb_ratings.append(imdb)\n",
        "    #metascore\n",
        "    m_score = container.find('span', class_='metascore').text if container.find('span', class_='metascore') else '-'\n",
        "    metascores.append(m_score)\n",
        "    #votes & gross\n",
        "    nv = container.find_all('span', attrs={'name': 'nv'})   \n",
        "    vote = nv[0].text\n",
        "    votes.append(vote)    \n",
        "    grosses = nv[1].text if len(nv) > 1 else ''\n",
        "    us_gross.append(grosses) \n",
        "\n",
        "movies = pd.DataFrame({\n",
        "'movie': titles,\n",
        "'year': years,\n",
        "'timeMin': time,\n",
        "'imdb': imdb_ratings,\n",
        "'metascore': metascores,\n",
        "'votes': votes,\n",
        "'us_grossMillions': us_gross,\n",
        "})\n",
        "\n",
        "\n",
        "movies['votes'] = movies['votes'].str.replace(',', '').astype(int)\n",
        "\n",
        "movies.loc[:, 'year'] = movies['year'].str[-5:-1].astype(int)\n",
        "\n",
        "movies['timeMin'] = movies['timeMin'].astype(str)\n",
        "movies['timeMin'] = movies['timeMin'].str.extract('(\\d+)').astype(int)\n",
        "\n",
        "movies['metascore'] = movies['metascore'].str.extract('(\\d+)')\n",
        "movies['metascore'] = pd.to_numeric(movies['metascore'], errors='coerce')\n",
        "\n",
        "movies['us_grossMillions'] = movies['us_grossMillions'].map(lambda x: x.lstrip('$').rstrip('M'))\n",
        "movies['us_grossMillions'] = pd.to_numeric(movies['us_grossMillions'], errors='coerce')\n",
        "\n"
      ],
      "execution_count": 2,
      "outputs": []
    },
    {
      "cell_type": "code",
      "metadata": {
        "colab": {
          "base_uri": "https://localhost:8080/",
          "height": 204
        },
        "id": "n_g2Bj1Fy9wh",
        "outputId": "f588cce1-12e2-4e4d-f0da-43caaaa19499"
      },
      "source": [
        "movies.head()"
      ],
      "execution_count": 5,
      "outputs": [
        {
          "output_type": "execute_result",
          "data": {
            "text/html": [
              "<div>\n",
              "<style scoped>\n",
              "    .dataframe tbody tr th:only-of-type {\n",
              "        vertical-align: middle;\n",
              "    }\n",
              "\n",
              "    .dataframe tbody tr th {\n",
              "        vertical-align: top;\n",
              "    }\n",
              "\n",
              "    .dataframe thead th {\n",
              "        text-align: right;\n",
              "    }\n",
              "</style>\n",
              "<table border=\"1\" class=\"dataframe\">\n",
              "  <thead>\n",
              "    <tr style=\"text-align: right;\">\n",
              "      <th></th>\n",
              "      <th>movie</th>\n",
              "      <th>year</th>\n",
              "      <th>timeMin</th>\n",
              "      <th>imdb</th>\n",
              "      <th>metascore</th>\n",
              "      <th>votes</th>\n",
              "      <th>us_grossMillions</th>\n",
              "    </tr>\n",
              "  </thead>\n",
              "  <tbody>\n",
              "    <tr>\n",
              "      <th>0</th>\n",
              "      <td>The Trial of the Chicago 7</td>\n",
              "      <td>2020</td>\n",
              "      <td>129</td>\n",
              "      <td>7.9</td>\n",
              "      <td>76.0</td>\n",
              "      <td>57100</td>\n",
              "      <td>NaN</td>\n",
              "    </tr>\n",
              "    <tr>\n",
              "      <th>1</th>\n",
              "      <td>Tenet</td>\n",
              "      <td>2020</td>\n",
              "      <td>150</td>\n",
              "      <td>7.8</td>\n",
              "      <td>69.0</td>\n",
              "      <td>145656</td>\n",
              "      <td>53.80</td>\n",
              "    </tr>\n",
              "    <tr>\n",
              "      <th>2</th>\n",
              "      <td>Spider-Man: Into the Spider-Verse</td>\n",
              "      <td>2018</td>\n",
              "      <td>117</td>\n",
              "      <td>8.4</td>\n",
              "      <td>87.0</td>\n",
              "      <td>352823</td>\n",
              "      <td>190.24</td>\n",
              "    </tr>\n",
              "    <tr>\n",
              "      <th>3</th>\n",
              "      <td>The Gentlemen</td>\n",
              "      <td>2019</td>\n",
              "      <td>113</td>\n",
              "      <td>7.8</td>\n",
              "      <td>51.0</td>\n",
              "      <td>204968</td>\n",
              "      <td>NaN</td>\n",
              "    </tr>\n",
              "    <tr>\n",
              "      <th>4</th>\n",
              "      <td>Harry Potter and the Sorcerer's Stone</td>\n",
              "      <td>2001</td>\n",
              "      <td>152</td>\n",
              "      <td>7.6</td>\n",
              "      <td>64.0</td>\n",
              "      <td>641548</td>\n",
              "      <td>317.58</td>\n",
              "    </tr>\n",
              "  </tbody>\n",
              "</table>\n",
              "</div>"
            ],
            "text/plain": [
              "                                   movie  year  ...   votes  us_grossMillions\n",
              "0             The Trial of the Chicago 7  2020  ...   57100               NaN\n",
              "1                                  Tenet  2020  ...  145656             53.80\n",
              "2      Spider-Man: Into the Spider-Verse  2018  ...  352823            190.24\n",
              "3                          The Gentlemen  2019  ...  204968               NaN\n",
              "4  Harry Potter and the Sorcerer's Stone  2001  ...  641548            317.58\n",
              "\n",
              "[5 rows x 7 columns]"
            ]
          },
          "metadata": {
            "tags": []
          },
          "execution_count": 5
        }
      ]
    },
    {
      "cell_type": "code",
      "metadata": {
        "id": "7uwIpewOy_ZX"
      },
      "source": [
        "movies.to_excel('Recents\\movies.xlsx')"
      ],
      "execution_count": 9,
      "outputs": []
    },
    {
      "cell_type": "code",
      "metadata": {
        "id": "n5Hsp2lrzJHQ"
      },
      "source": [
        ""
      ],
      "execution_count": null,
      "outputs": []
    }
  ]
}